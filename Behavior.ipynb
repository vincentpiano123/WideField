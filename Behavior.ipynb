{
 "cells": [
  {
   "cell_type": "markdown",
   "id": "7d634e21",
   "metadata": {},
   "source": [
    "# Packages"
   ]
  },
  {
   "cell_type": "code",
   "execution_count": 6,
   "id": "4801855f",
   "metadata": {},
   "outputs": [],
   "source": [
    "import freenect\n",
    "import cv2\n",
    "import numpy as np\n",
    "import time\n",
    "import matplotlib.pyplot as plt\n",
    "import os"
   ]
  },
  {
   "cell_type": "markdown",
   "id": "cc008cc1",
   "metadata": {},
   "source": [
    "# Record video and depth with Kinect"
   ]
  },
  {
   "cell_type": "code",
   "execution_count": 4,
   "id": "fb2d66da",
   "metadata": {},
   "outputs": [],
   "source": [
    "def record_video(folder_path, duration, overwrite=False):\n",
    "    \n",
    "    if not overwrite:\n",
    "        if os.path.exists(folder_path+'/'+'video.avi'):\n",
    "            raise OSError('Oops, .avi video file already exists and overwrite arg set to False.')\n",
    "        if os.path.exists(folder_path+'/'+'depth.avi'):\n",
    "            raise OSError('Oops, .avi depth file already exists and overwrite arg set to False.')\n",
    "            \n",
    "    fourcc = cv2.VideoWriter_fourcc(*'XVID')\n",
    "    video_out = cv2.VideoWriter(folder_path+'/'+'video.avi', fourcc, 20.0, (640,480))\n",
    "    depth_out = cv2.VideoWriter(folder_path+'/'+'depth.avi', fourcc, 20.0, (640,480))\n",
    "    \n",
    "    start_time = time.time()\n",
    "    \n",
    "    while time.time() - start_time < duration:\n",
    "        \n",
    "        frame_video, _ = freenect.sync_get_video()\n",
    "        frame_video = cv2.cvtColor(frame_video, cv2.COLOR_RGB2BGR)\n",
    "        \n",
    "        frame_depth, _ = freenect.sync_get_depth()\n",
    "        frame_depth_8bit = cv2.convertScaleAbs(frame_depth, alpha=(255.0/2047.0))\n",
    "        frame_depth_3channel = cv2.merge((frame_depth_8bit, frame_depth_8bit, frame_depth_8bit))\n",
    "        \n",
    "        video_out.write(frame_video)\n",
    "        depth_out.write(frame_depth_3channel)\n",
    "        \n",
    "        horizontal_image = np.hstack((frame_depth_3channel , frame_video))\n",
    "        \n",
    "        # Simple Downsample\n",
    "        cv2.imshow('Depth & Video' , horizontal_image )\n",
    "        cv2.waitKey(5)\n",
    "        \n",
    "\n",
    "    video_out.release()\n",
    "    depth_out.release()\n",
    "\n",
    "    cv2.waitKey(10)\n",
    "    cv2.destroyAllWindows()\n",
    "    cv2.waitKey(10)\n",
    "    \n",
    "    print('Done!')"
   ]
  },
  {
   "cell_type": "code",
   "execution_count": 7,
   "id": "5e44916b-62b4-4a9e-935d-50455707a795",
   "metadata": {
    "scrolled": true
   },
   "outputs": [
    {
     "name": "stderr",
     "output_type": "stream",
     "text": [
      "[ERROR:0@490.757] global cap.cpp:645 open VIDEOIO(CV_IMAGES): raised OpenCV exception:\n",
      "\n",
      "OpenCV(4.8.0) /Users/runner/work/opencv-python/opencv-python/opencv/modules/videoio/src/cap_images.cpp:253: error: (-5:Bad argument) CAP_IMAGES: can't find starting number (in the name of file): /Users/vincentchouinard/Documents/Maitrise/Behavior/pingpongball/video.avi in function 'icvExtractPattern'\n",
      "\n",
      "\n",
      "[ERROR:0@490.757] global cap.cpp:645 open VIDEOIO(CV_IMAGES): raised OpenCV exception:\n",
      "\n",
      "OpenCV(4.8.0) /Users/runner/work/opencv-python/opencv-python/opencv/modules/videoio/src/cap_images.cpp:253: error: (-5:Bad argument) CAP_IMAGES: can't find starting number (in the name of file): /Users/vincentchouinard/Documents/Maitrise/Behavior/pingpongball/depth.avi in function 'icvExtractPattern'\n",
      "\n",
      "\n",
      "[Stream 70] Invalid magic ffff\n",
      "[Stream 70] Inconsistent flag 71 with 55 packets in buf (242 total), resyncing...\n",
      "[Stream 80] Invalid magic 3928\n",
      "[Stream 80] Inconsistent flag 82 with 161 packets in buf (162 total), resyncing...\n"
     ]
    },
    {
     "name": "stdout",
     "output_type": "stream",
     "text": [
      "Done!\n"
     ]
    }
   ],
   "source": [
    "record_video(folder_path='/Users/vincentchouinard/Documents/Maitrise/Behavior/pingpongball', duration=30)"
   ]
  },
  {
   "cell_type": "markdown",
   "id": "64b6b774",
   "metadata": {},
   "source": [
    "# Reads avi files"
   ]
  },
  {
   "cell_type": "code",
   "execution_count": 24,
   "id": "4b81c23b-08fb-4935-9842-3b7c8d3b5f33",
   "metadata": {},
   "outputs": [
    {
     "name": "stderr",
     "output_type": "stream",
     "text": [
      "OpenCV: Couldn't read video stream from file \"/Users/vincentchouinard/Desktop/output.avi\"\n",
      "[ERROR:0@389.400] global cap.cpp:166 open VIDEOIO(CV_IMAGES): raised OpenCV exception:\n",
      "\n",
      "OpenCV(4.8.0) /Users/runner/work/opencv-python/opencv-python/opencv/modules/videoio/src/cap_images.cpp:253: error: (-5:Bad argument) CAP_IMAGES: can't find starting number (in the name of file): /Users/vincentchouinard/Desktop/output.avi in function 'icvExtractPattern'\n",
      "\n",
      "\n",
      "[Stream 70] Invalid magic bdff\n",
      "[Stream 70] Invalid magic bdff\n",
      "[Stream 70] Inconsistent flag 75 with 218 packets in buf (242 total), resyncing...\n"
     ]
    }
   ],
   "source": [
    "import cv2\n",
    "\n",
    "def view_avi(filename):\n",
    "    cap = cv2.VideoCapture(filename)\n",
    "\n",
    "    while cap.isOpened():\n",
    "        ret, frame = cap.read()\n",
    "\n",
    "        if not ret:\n",
    "            break\n",
    "        \n",
    "        # Convert the frame from RGB to BGR\n",
    "        frame_bgr = cv2.cvtColor(frame, cv2.COLOR_RGB2BGR)\n",
    "        \n",
    "        cv2.imshow('Video', frame_bgr)\n",
    "\n",
    "        # Break the loop on pressing 'q'\n",
    "        if cv2.waitKey(25) & 0xFF == ord('q'):\n",
    "            break\n",
    "\n",
    "    cap.release()\n",
    "    cv2.waitKey(10)\n",
    "    cv2.destroyAllWindows()\n",
    "    cv2.waitKey(10)\n",
    "    \n",
    "# Call the function to open and display the .avi file\n",
    "view_avi('/Users/vincentchouinard/Desktop/output.avi')"
   ]
  },
  {
   "cell_type": "code",
   "execution_count": 8,
   "id": "2389eda7",
   "metadata": {},
   "outputs": [
    {
     "name": "stdout",
     "output_type": "stream",
     "text": [
      "(601, 480, 640, 3)\n"
     ]
    }
   ],
   "source": [
    "import cv2\n",
    "import numpy as np\n",
    "\n",
    "# Specify the path to your .avi file\n",
    "video_path = '/Users/vincentchouinard/Desktop/output.avi'\n",
    "\n",
    "# Create a VideoCapture object\n",
    "cap = cv2.VideoCapture(video_path)\n",
    "\n",
    "if not cap.isOpened():\n",
    "    print(\"Error: Could not open video file\")\n",
    "    exit()\n",
    "\n",
    "# List to store the frames as arrays\n",
    "frames = []\n",
    "\n",
    "while True:\n",
    "    # Capture frame-by-frame\n",
    "    ret, frame = cap.read()\n",
    "    \n",
    "    # If the frame was read correctly ret is True\n",
    "    if not ret:\n",
    "        break\n",
    "    \n",
    "    # Append the frame (which is a NumPy array) to the frames list\n",
    "    frames.append(frame)\n",
    "\n",
    "# Release the video capture object\n",
    "cap.release()\n",
    "\n",
    "# Convert the list of frames to a NumPy array\n",
    "frames_array = np.array(frames)\n",
    "\n",
    "print(frames_array.shape)"
   ]
  },
  {
   "cell_type": "code",
   "execution_count": 8,
   "id": "2abffdbd",
   "metadata": {},
   "outputs": [],
   "source": [
    "def avi_to_array(video_path):\n",
    "\n",
    "    # Create a VideoCapture object\n",
    "    cap = cv2.VideoCapture(video_path)\n",
    "\n",
    "    # Get the total number of frames in the video\n",
    "    frame_count = int(cap.get(cv2.CAP_PROP_FRAME_COUNT))\n",
    "\n",
    "    # Get the frame width and height\n",
    "    frame_width = int(cap.get(cv2.CAP_PROP_FRAME_WIDTH))\n",
    "    frame_height = int(cap.get(cv2.CAP_PROP_FRAME_HEIGHT))\n",
    "\n",
    "    # Create a list to store each frame as a numpy array\n",
    "    frames = []\n",
    "\n",
    "    # Loop through each frame in the video\n",
    "    for i in range(frame_count):\n",
    "        # Capture the next frame\n",
    "        ret, frame = cap.read()\n",
    "\n",
    "        # Check if the frame was captured successfully\n",
    "        if ret:\n",
    "            # Append the frame (as a numpy array) to the list\n",
    "            frames.append(frame)\n",
    "        else:\n",
    "            # Break the loop if we couldn't capture a frame\n",
    "            print(f\"Could not read frame {i}\")\n",
    "            break\n",
    "\n",
    "    # Release the VideoCapture object\n",
    "    cap.release()\n",
    "\n",
    "    # Convert the list of numpy arrays to a single numpy array\n",
    "    return np.array(frames)\n",
    "\n",
    "    # Now `video_array` is a numpy array with shape (frame_count, frame_height, frame_width, 3)"
   ]
  },
  {
   "cell_type": "markdown",
   "id": "a0350c62",
   "metadata": {},
   "source": [
    "# Camera characterization"
   ]
  },
  {
   "cell_type": "code",
   "execution_count": 10,
   "id": "e92b3a76",
   "metadata": {
    "scrolled": false
   },
   "outputs": [
    {
     "data": {
      "image/png": "[encoded data removed]",
      "text/plain": [
       "<Figure size 640x480 with 1 Axes>"
      ]
     },
     "metadata": {},
     "output_type": "display_data"
    },
    {
     "name": "stderr",
     "output_type": "stream",
     "text": [
      "[Stream 70] Invalid magic b7ff\n",
      "[Stream 70] Inconsistent flag 75 with 218 packets in buf (242 total), resyncing...\n"
     ]
    }
   ],
   "source": [
    "time_array = []\n",
    "for i in range(100):\n",
    "    t0 = time.time()\n",
    "    array, _ = freenect.sync_get_depth()\n",
    "    tf = time.time()\n",
    "    time_array.append(tf-t0)\n",
    "\n",
    "plt.plot(time_array)\n",
    "plt.show()"
   ]
  },
  {
   "cell_type": "markdown",
   "id": "3a14af2a",
   "metadata": {},
   "source": [
    "### Framerate is 32 hz but once in every 30 frames, there's a frame that takes 0.48 secs to be aquired instead of 0.32"
   ]
  },
  {
   "cell_type": "code",
   "execution_count": 13,
   "id": "53d3648f",
   "metadata": {},
   "outputs": [],
   "source": [
    "array = avi_to_array('/Users/vincentchouinard/Documents/Maitrise/Behavior/pingpingball/depth.avi')[:,:,:,0]"
   ]
  }
 ],
 "metadata": {
  "kernelspec": {
   "display_name": "Python 3 (ipykernel)",
   "language": "python",
   "name": "python3"
  },
  "language_info": {
   "codemirror_mode": {
    "name": "ipython",
    "version": 3
   },
   "file_extension": ".py",
   "mimetype": "text/x-python",
   "name": "python",
   "nbconvert_exporter": "python",
   "pygments_lexer": "ipython3",
   "version": "3.8.18"
  }
 },
 "nbformat": 4,
 "nbformat_minor": 5
}
