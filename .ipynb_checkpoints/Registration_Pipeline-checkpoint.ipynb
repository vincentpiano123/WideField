{
 "cells": [
  {
   "cell_type": "code",
   "execution_count": 2,
   "id": "90674d5a",
   "metadata": {},
   "outputs": [
    {
     "name": "stderr",
     "output_type": "stream",
     "text": [
      "2024-01-18 14:42:18.818930: I tensorflow/core/platform/cpu_feature_guard.cc:193] This TensorFlow binary is optimized with oneAPI Deep Neural Network Library (oneDNN) to use the following CPU instructions in performance-critical operations:  AVX2 FMA\n",
      "To enable them in other operations, rebuild TensorFlow with the appropriate compiler flags.\n"
     ]
    }
   ],
   "source": [
    "import numpy as np\n",
    "import os\n",
    "import functools\n",
    "import time\n",
    "from pathlib import Path\n",
    "from tqdm import tqdm\n",
    "from allensdk.core.reference_space import ReferenceSpace\n",
    "from allensdk.core.reference_space_cache import ReferenceSpaceCache\n",
    "from atlas_functions import *\n",
    "from MIFFE import search_path\n",
    "import ants\n",
    "import nrrd\n",
    "import scipy\n",
    "import cv2\n",
    "from PIL import Image\n",
    "import nrrd\n",
    "from collections import OrderedDict\n",
    "import tifffile as tiff\n",
    "from scipy.signal import medfilt\n",
    "import time"
   ]
  },
  {
   "cell_type": "markdown",
   "id": "5dfa1d5d",
   "metadata": {},
   "source": [
    "# Cranial Window Registration"
   ]
  },
  {
   "cell_type": "markdown",
   "id": "aae7870c",
   "metadata": {},
   "source": [
    "### 1. Dataset selection for registration"
   ]
  },
  {
   "cell_type": "code",
   "execution_count": 3,
   "id": "97361293",
   "metadata": {},
   "outputs": [],
   "source": [
    "data_folder = '/Users/vincentchouinard/Documents/Maitrise/Data'\n",
    "registration_folder = '/Users/vincentchouinard/Documents/Maitrise/Registration'\n",
    "data_ids = ['M38']"
   ]
  },
  {
   "cell_type": "code",
   "execution_count": 5,
   "id": "11a6858f",
   "metadata": {},
   "outputs": [],
   "source": [
    "# Folder list creation\n",
    "\n",
    "folder_list = []\n",
    "for data_id in data_ids:\n",
    "    identifylist = identify_files(data_folder, keywords=[data_id])\n",
    "    for i in range(len(identifylist)):\n",
    "        folder_list.append(data_folder + '/' + identifylist[i])\n",
    "        \n",
    "        \n",
    "# Surgery list creation\n",
    "\n",
    "# mouse id creation from folder list\n",
    "mouse_ids = []\n",
    "for path in folder_list:\n",
    "    path_end = path.split('/')[-1]\n",
    "    mouse_id = path_end.split('_')[1]\n",
    "    mouse_ids.append(mouse_id)\n",
    "    \n",
    "# surgery list from mouse ids\n",
    "surgery_list = []\n",
    "for mouse_id in mouse_ids:\n",
    "    reg_mouse_path = registration_folder + '/' + identify_files(registration_folder , keywords=[mouse_id])[0]\n",
    "    surgery_list.append(reg_mouse_path + '/' + identify_files(reg_mouse_path , keywords=['.jpg'])[0])\n",
    "    \n",
    "    \n",
    "# Data files list (personal to every user. Mine is automated that way)\n",
    "data_list = []\n",
    "for path in folder_list:\n",
    "    data_list.append(path + '/Correction/corrected_green_movie.tif')"
   ]
  },
  {
   "cell_type": "markdown",
   "id": "24782eb6",
   "metadata": {},
   "source": [
    "### 2. Registering datasets"
   ]
  },
  {
   "cell_type": "code",
   "execution_count": 6,
   "id": "3e54cf4a",
   "metadata": {},
   "outputs": [
    {
     "name": "stderr",
     "output_type": "stream",
     "text": [
      "100%|███████████████████████████████████████| 320/320 [00:00<00:00, 2324.57it/s]\n"
     ]
    },
    {
     "name": "stdout",
     "output_type": "stream",
     "text": [
      "Cortical map obtained.\n",
      "Press \"escape\" to exit when cropping is done. First and last selected coordinates will automatically connect.\n",
      "Folder named \"/Users/vincentchouinard/Documents/Maitrise/Data/RS_M38_22aout/Registration_files\" already exists.\n",
      "Press \"escape\" to exit when cropping is done. First and last selected coordinates will automatically connect.\n",
      "Done!\n"
     ]
    }
   ],
   "source": [
    "for i in range(len(folder_list)):\n",
    "    registration(surgery_list[i], folder_list[i], data_list[i], overwrite = False, display_first = False)"
   ]
  },
  {
   "cell_type": "markdown",
   "id": "04cb8c41",
   "metadata": {},
   "source": [
    "# Transcranial Registration"
   ]
  },
  {
   "cell_type": "code",
   "execution_count": 7,
   "id": "dbd1d5d6",
   "metadata": {},
   "outputs": [],
   "source": [
    "# Peut-être pas nécessaire si les étapes sont exactement les mêmes que celles de la fenêtre crânienne"
   ]
  },
  {
   "cell_type": "markdown",
   "id": "d8c56e2f",
   "metadata": {},
   "source": [
    "# Coregistration"
   ]
  },
  {
   "cell_type": "code",
   "execution_count": null,
   "id": "58490aa9",
   "metadata": {},
   "outputs": [],
   "source": []
  }
 ],
 "metadata": {
  "kernelspec": {
   "display_name": "Python 3 (ipykernel)",
   "language": "python",
   "name": "python3"
  },
  "language_info": {
   "codemirror_mode": {
    "name": "ipython",
    "version": 3
   },
   "file_extension": ".py",
   "mimetype": "text/x-python",
   "name": "python",
   "nbconvert_exporter": "python",
   "pygments_lexer": "ipython3",
   "version": "3.9.17"
  }
 },
 "nbformat": 4,
 "nbformat_minor": 5
}
