{
 "cells": [
  {
   "cell_type": "markdown",
   "id": "3de89731",
   "metadata": {},
   "source": [
    "# HbT pipeline"
   ]
  },
  {
   "cell_type": "code",
   "execution_count": 17,
   "id": "a605816a",
   "metadata": {
    "scrolled": true
   },
   "outputs": [],
   "source": [
    "# -*- coding: utf-8 -*-\n",
    "\"\"\"\n",
    "Created on Thu Jan 12 13:38:43 2023\n",
    "\n",
    "@author: vincent chouinard\n",
    "\"\"\"\n",
    "import os\n",
    "from tqdm import tqdm\n",
    "from pathlib import Path\n",
    "import numpy as np\n",
    "import matplotlib.pyplot as plt\n",
    "import matplotlib.animation as animation\n",
    "from skimage.filters import threshold_local\n",
    "from PIL import Image\n",
    "import imageio\n",
    "import sys\n",
    "import imageio.v2 as imageio\n",
    "from PyQt5.QtWidgets import QFileDialog, QApplication\n",
    "import tifffile as tiff\n",
    "from scipy import stats, ndimage\n",
    "#import imageio\n",
    "module_path = r'/Users/vincentchouinard/Documents/GitHub/Widefield-Imaging-analysis'\n",
    "sys.path.insert(1,module_path)\n",
    "from motion_correction_caiman import *\n",
    "from WFmovie import WFmovie\n",
    "from WFmovie import create_channel\n",
    "from WFmovie import regress_timeseries\n",
    "from WFmovie import convert_to_hb_loop\n",
    "from WFmovie import save_figures_as_gif\n",
    "\n",
    "module_path_chouine = r'/Users/vincentchouinard/Documents/GitHub/WideField'\n",
    "sys.path.insert(2, module_path_chouine)\n",
    "from MIFFE import *"
   ]
  },
  {
   "cell_type": "markdown",
   "id": "c6d46200",
   "metadata": {},
   "source": [
    "## 1. Load data in folderpath, open and normalize it."
   ]
  },
  {
   "cell_type": "code",
   "execution_count": 2,
   "id": "ee4ce54e",
   "metadata": {},
   "outputs": [],
   "source": [
    "folderpath = \"/Users/vincentchouinard/Documents/Maitrise/Data/CVR_M35_7juin\""
   ]
  },
  {
   "cell_type": "code",
   "execution_count": 4,
   "id": "b051aa16",
   "metadata": {},
   "outputs": [],
   "source": [
    "use_corrected = False"
   ]
  },
  {
   "cell_type": "code",
   "execution_count": 5,
   "id": "198f3e0c",
   "metadata": {
    "scrolled": false
   },
   "outputs": [
    {
     "name": "stdout",
     "output_type": "stream",
     "text": [
      "data_path: /Users/vincentchouinard/Documents/Maitrise/Data/CVR_M35_7juin\n",
      "stim_path: False\n",
      "channels: ['red', 'green']\n",
      "channels_exist: True\n",
      "binning: False\n",
      "normalize: False\n",
      "gaussian_filter: False\n",
      "gaussian_std: 1\n",
      "temp_med_filter: False\n",
      "temp_med_width: 3\n",
      "substract_background: False\n",
      "background_path: None\n"
     ]
    }
   ],
   "source": [
    "if not use_corrected:\n",
    "    #Opens without movement correction\n",
    "    movies = create_movies(folderpath, channels = ['red', 'green'], channels_exist = True, stim_path = False, memmap=True)\n",
    "    freq = int(movies[0].freq / movies[0].nchannels)\n",
    "    \n",
    "    green = movies[1].data\n",
    "    red = movies[0].data\n",
    "    \n",
    "elif use_corrected:\n",
    "    #Acquisition frequency\n",
    "    movies = create_movies(folderpath, channels = ['red'], channels_exist = True, stim_path = False, memmap=True)\n",
    "    freq = int(movies[0].freq / movies[0].nchannels)\n",
    "    \n",
    "    #Corrected paths\n",
    "    g_path = search_path(path_type=\"file\")\n",
    "    r_path = search_path(path_type=\"file\")\n",
    "    \n",
    "    green = np.load(g_path)\n",
    "    red = np.load(r_path)\n",
    "\n",
    "#Normalize by baseline\n",
    "green = normalize_by_baseline(green , freq , 10)\n",
    "red = normalize_by_baseline(red , freq , 10)"
   ]
  },
  {
   "cell_type": "markdown",
   "id": "93598ad0",
   "metadata": {},
   "source": [
    "## 2. Convert green and red channels to dHbO and dHbR"
   ]
  },
  {
   "cell_type": "code",
   "execution_count": 6,
   "id": "5ba8109c",
   "metadata": {},
   "outputs": [],
   "source": [
    "# Change directory to WF directory for access to WFMovie function\n",
    "current_directory = os.getcwd()\n",
    "os.chdir(module_path)"
   ]
  },
  {
   "cell_type": "code",
   "execution_count": 7,
   "id": "9f652862",
   "metadata": {
    "scrolled": true
   },
   "outputs": [
    {
     "name": "stderr",
     "output_type": "stream",
     "text": [
      "100%|███████████████████████████████████████| 1890/1890 [00:39<00:00, 48.26it/s]\n"
     ]
    }
   ],
   "source": [
    "dHbO, dHbR = convert_to_hb_loop(green, red)"
   ]
  },
  {
   "cell_type": "code",
   "execution_count": 8,
   "id": "4ee8e365",
   "metadata": {},
   "outputs": [],
   "source": [
    "red=None\n",
    "green=None"
   ]
  },
  {
   "cell_type": "code",
   "execution_count": 9,
   "id": "821e6fa0",
   "metadata": {},
   "outputs": [],
   "source": [
    "dHbT = dHbO + dHbR"
   ]
  },
  {
   "cell_type": "markdown",
   "id": "5d768b5c",
   "metadata": {},
   "source": [
    "## 3. Creates Hb_data folder in data folder and saves dHbO, dHbR and dHbT as .tif"
   ]
  },
  {
   "cell_type": "code",
   "execution_count": 10,
   "id": "2f150b5d",
   "metadata": {},
   "outputs": [
    {
     "name": "stdout",
     "output_type": "stream",
     "text": [
      "Directory 'Hb_data' already exists.\n"
     ]
    },
    {
     "data": {
      "text/plain": [
       "'/Users/vincentchouinard/Documents/Maitrise/Data/CVR_M35_7juin/Hb_data'"
      ]
     },
     "execution_count": 10,
     "metadata": {},
     "output_type": "execute_result"
    }
   ],
   "source": [
    "# Directory\n",
    "directory = \"Hb_data\"\n",
    "parent_dir = folderpath\n",
    "  \n",
    "# Path\n",
    "path = os.path.join(parent_dir, directory)\n",
    "\n",
    "if not os.path.exists(path):\n",
    "    # Create the directory\n",
    "    os.mkdir(path)\n",
    "    print(\"Directory '% s' created\" % directory)\n",
    "\n",
    "else:\n",
    "    print(\"Directory '% s' already exists.\" % directory)\n",
    "\n",
    "os.chdir(path)\n",
    "os.getcwd()"
   ]
  },
  {
   "cell_type": "code",
   "execution_count": 11,
   "id": "5a35b565",
   "metadata": {},
   "outputs": [],
   "source": [
    "def rescale_as_uint16(data):\n",
    "    # Rescales from 0 to 65535 with min and max of data.\n",
    "    rescaled_data = ((data-np.min(data))/(np.abs(np.min(data))+np.max(data)))*65535\n",
    "    rescaled_data = rescaled_data.astype(np.uint16)\n",
    "    return rescaled_data"
   ]
  },
  {
   "cell_type": "code",
   "execution_count": 12,
   "id": "398c0422",
   "metadata": {},
   "outputs": [],
   "source": [
    "dHbO = rescale_as_uint16(dHbO)\n",
    "dHbR = rescale_as_uint16(dHbR)\n",
    "dHbT = rescale_as_uint16(dHbT)"
   ]
  },
  {
   "cell_type": "code",
   "execution_count": 13,
   "id": "6672513a",
   "metadata": {},
   "outputs": [],
   "source": [
    "tiff.imwrite(\"dHbO.tif\", dHbO, dtype=np.uint16)\n",
    "tiff.imwrite(\"dHbR.tif\", dHbR, dtype=np.uint16)\n",
    "tiff.imwrite(\"dHbT.tif\", dHbT, dtype=np.uint16)"
   ]
  },
  {
   "cell_type": "markdown",
   "id": "f8eb8aa2",
   "metadata": {},
   "source": [
    "### Note: Because rescaling is done with min and max of data, variations are not comparable between dHbO/dHbR/dHbT. To know about range and mean, compile next cell:"
   ]
  },
  {
   "cell_type": "code",
   "execution_count": 14,
   "id": "24824dce",
   "metadata": {},
   "outputs": [
    {
     "name": "stdout",
     "output_type": "stream",
     "text": [
      "- dHbO range varies between -803.74 and 823.80 and is centered around 8.26 microM.\n",
      "- dHbR range varies between -337.43 and 231.23 and is centered around -2.67 microM.\n",
      "- dHbT range varies between -727.20 and 735.07 and is centered around 5.59 microM.\n"
     ]
    }
   ],
   "source": [
    "print(\"- dHbO range varies between {:.2f} and {:.2f} and is centered around {:.2f} microM.\".format(np.min(dHbO), np.max(dHbO), np.mean(dHbO)))\n",
    "print(\"- dHbR range varies between {:.2f} and {:.2f} and is centered around {:.2f} microM.\".format(np.min(dHbR), np.max(dHbR), np.mean(dHbR)))\n",
    "print(\"- dHbT range varies between {:.2f} and {:.2f} and is centered around {:.2f} microM.\".format(np.min(dHbT), np.max(dHbT), np.mean(dHbT)))"
   ]
  },
  {
   "cell_type": "markdown",
   "id": "39b71a17",
   "metadata": {},
   "source": [
    "# Test Cleroux fonction"
   ]
  },
  {
   "cell_type": "code",
   "execution_count": 20,
   "id": "5191db31",
   "metadata": {},
   "outputs": [],
   "source": [
    "gpath = \"/Users/vincentchouinard/Documents/Maitrise/Data/CVR_M35_7juin/Correction/corrected_CVR_M35_7juin_green_movie.tif\"\n",
    "rpath = \"/Users/vincentchouinard/Documents/Maitrise/Data/CVR_M35_7juin/Correction/corrected_CVR_M35_7juin_red_movie.tif\"\n",
    "output_path = \"/Users/vincentchouinard/Documents/Maitrise/Data/CVR_M35_7juin/Correction\"\n",
    "\n",
    "os.chdir(module_path)"
   ]
  },
  {
   "cell_type": "code",
   "execution_count": 21,
   "id": "b36f39fd",
   "metadata": {
    "scrolled": true
   },
   "outputs": [
    {
     "name": "stderr",
     "output_type": "stream",
     "text": [
      "  9%|███▋                                    | 176/1890 [00:02<00:20, 83.01it/s]/Users/vincentchouinard/Documents/GitHub/WideField/MIFFE.py:279: RuntimeWarning: divide by zero encountered in log\n",
      " 24%|█████████▍                              | 445/1890 [00:05<00:16, 87.98it/s]/Users/vincentchouinard/Documents/GitHub/WideField/MIFFE.py:280: RuntimeWarning: divide by zero encountered in log\n",
      "100%|███████████████████████████████████████| 1890/1890 [00:23<00:00, 82.14it/s]\n"
     ]
    }
   ],
   "source": [
    "convert_to_hb(gpath , rpath , output_path , baseline=[0,90] , bin_size=1)"
   ]
  },
  {
   "cell_type": "markdown",
   "id": "9cee249c",
   "metadata": {},
   "source": [
    "# À modifier pour incorporer la fonction"
   ]
  },
  {
   "cell_type": "code",
   "execution_count": null,
   "id": "6b72e8d4",
   "metadata": {},
   "outputs": [],
   "source": []
  }
 ],
 "metadata": {
  "kernelspec": {
   "display_name": "Python 3 (ipykernel)",
   "language": "python",
   "name": "python3"
  },
  "language_info": {
   "codemirror_mode": {
    "name": "ipython",
    "version": 3
   },
   "file_extension": ".py",
   "mimetype": "text/x-python",
   "name": "python",
   "nbconvert_exporter": "python",
   "pygments_lexer": "ipython3",
   "version": "3.9.15"
  }
 },
 "nbformat": 4,
 "nbformat_minor": 5
}
