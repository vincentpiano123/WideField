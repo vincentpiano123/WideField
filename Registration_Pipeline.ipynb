{
 "cells": [
  {
   "cell_type": "code",
   "execution_count": 2,
   "id": "90674d5a",
   "metadata": {},
   "outputs": [
    {
     "name": "stderr",
     "output_type": "stream",
     "text": [
      "2024-05-02 13:31:57.408493: I tensorflow/core/platform/cpu_feature_guard.cc:193] This TensorFlow binary is optimized with oneAPI Deep Neural Network Library (oneDNN) to use the following CPU instructions in performance-critical operations:  AVX2 FMA\n",
      "To enable them in other operations, rebuild TensorFlow with the appropriate compiler flags.\n"
     ]
    }
   ],
   "source": [
    "import numpy as np\n",
    "import os\n",
    "import functools\n",
    "import time\n",
    "from pathlib import Path\n",
    "from tqdm import tqdm\n",
    "from allensdk.core.reference_space import ReferenceSpace\n",
    "from allensdk.core.reference_space_cache import ReferenceSpaceCache\n",
    "from atlas_functions import *\n",
    "from MIFFE import search_path\n",
    "import ants\n",
    "import nrrd\n",
    "import scipy\n",
    "import cv2\n",
    "from PIL import Image\n",
    "import nrrd\n",
    "from collections import OrderedDict\n",
    "import tifffile as tiff\n",
    "from scipy.signal import medfilt\n",
    "import time"
   ]
  },
  {
   "cell_type": "markdown",
   "id": "5dfa1d5d",
   "metadata": {},
   "source": [
    "# Cranial Window Registration"
   ]
  },
  {
   "cell_type": "markdown",
   "id": "aae7870c",
   "metadata": {},
   "source": [
    "### 1. Dataset selection for registration"
   ]
  },
  {
   "cell_type": "code",
   "execution_count": 3,
   "id": "97361293",
   "metadata": {},
   "outputs": [],
   "source": [
    "data_folder = '/Users/vincentchouinard/Documents/Maitrise/Data'\n",
    "registration_folder = '/Users/vincentchouinard/Documents/Maitrise/Registration'\n",
    "data_ids = ['M50']"
   ]
  },
  {
   "cell_type": "code",
   "execution_count": 4,
   "id": "11a6858f",
   "metadata": {},
   "outputs": [
    {
     "ename": "IndexError",
     "evalue": "list index out of range",
     "output_type": "error",
     "traceback": [
      "\u001b[0;31m---------------------------------------------------------------------------\u001b[0m",
      "\u001b[0;31mIndexError\u001b[0m                                Traceback (most recent call last)",
      "Cell \u001b[0;32mIn[4], line 23\u001b[0m\n\u001b[1;32m     21\u001b[0m \u001b[38;5;28;01mfor\u001b[39;00m mouse_id \u001b[38;5;129;01min\u001b[39;00m mouse_ids:\n\u001b[1;32m     22\u001b[0m     reg_mouse_path \u001b[38;5;241m=\u001b[39m registration_folder \u001b[38;5;241m+\u001b[39m \u001b[38;5;124m'\u001b[39m\u001b[38;5;124m/\u001b[39m\u001b[38;5;124m'\u001b[39m \u001b[38;5;241m+\u001b[39m identify_files(registration_folder , keywords\u001b[38;5;241m=\u001b[39m[mouse_id])[\u001b[38;5;241m0\u001b[39m]\n\u001b[0;32m---> 23\u001b[0m     surgery_list\u001b[38;5;241m.\u001b[39mappend(reg_mouse_path \u001b[38;5;241m+\u001b[39m \u001b[38;5;124m'\u001b[39m\u001b[38;5;124m/\u001b[39m\u001b[38;5;124m'\u001b[39m \u001b[38;5;241m+\u001b[39m \u001b[43midentify_files\u001b[49m\u001b[43m(\u001b[49m\u001b[43mreg_mouse_path\u001b[49m\u001b[43m \u001b[49m\u001b[43m,\u001b[49m\u001b[43m \u001b[49m\u001b[43mkeywords\u001b[49m\u001b[38;5;241;43m=\u001b[39;49m\u001b[43m[\u001b[49m\u001b[38;5;124;43m'\u001b[39;49m\u001b[38;5;124;43m.jpg\u001b[39;49m\u001b[38;5;124;43m'\u001b[39;49m\u001b[43m]\u001b[49m\u001b[43m)\u001b[49m\u001b[43m[\u001b[49m\u001b[38;5;241;43m0\u001b[39;49m\u001b[43m]\u001b[49m)\n\u001b[1;32m     26\u001b[0m \u001b[38;5;66;03m# Data files list (personal to every user. Mine is automated that way)\u001b[39;00m\n\u001b[1;32m     27\u001b[0m data_list \u001b[38;5;241m=\u001b[39m []\n",
      "\u001b[0;31mIndexError\u001b[0m: list index out of range"
     ]
    }
   ],
   "source": [
    "# Folder list creation\n",
    "\n",
    "folder_list = []\n",
    "for data_id in data_ids:\n",
    "    identifylist = identify_files(data_folder, keywords=[data_id])\n",
    "    for i in range(len(identifylist)):\n",
    "        folder_list.append(data_folder + '/' + identifylist[i])\n",
    "        \n",
    "        \n",
    "# Surgery list creation\n",
    "\n",
    "# mouse id creation from folder list\n",
    "mouse_ids = []\n",
    "for path in folder_list:\n",
    "    path_end = path.split('/')[-1]\n",
    "    mouse_id = path_end.split('_')[1]\n",
    "    mouse_ids.append(mouse_id)\n",
    "    \n",
    "# surgery list from mouse ids\n",
    "surgery_list = []\n",
    "for mouse_id in mouse_ids:\n",
    "    reg_mouse_path = registration_folder + '/' + identify_files(registration_folder , keywords=[mouse_id])[0]\n",
    "    surgery_list.append(reg_mouse_path + '/' + identify_files(reg_mouse_path , keywords=['.jpg'])[0])\n",
    "    \n",
    "    \n",
    "# Data files list (personal to every user. Mine is automated that way)\n",
    "data_list = []\n",
    "for path in folder_list:\n",
    "    data_list.append(path + '/Correction/corrected_green_movie.tif')"
   ]
  },
  {
   "cell_type": "markdown",
   "id": "24782eb6",
   "metadata": {},
   "source": [
    "### 2. Registering datasets"
   ]
  },
  {
   "cell_type": "code",
   "execution_count": 4,
   "id": "3e54cf4a",
   "metadata": {},
   "outputs": [
    {
     "name": "stderr",
     "output_type": "stream",
     "text": [
      "100%|███████████████████████████████████████| 320/320 [00:00<00:00, 2221.49it/s]\n"
     ]
    },
    {
     "name": "stdout",
     "output_type": "stream",
     "text": [
      "Cortical map obtained.\n",
      "Press \"escape\" to exit when cropping is done. First and last selected coordinates will automatically connect.\n",
      "Folder named \"/Users/vincentchouinard/Documents/Maitrise/Data/RS_M38_22aout/Registration_files\" already exists.\n",
      "Press \"escape\" to exit when cropping is done. First and last selected coordinates will automatically connect.\n",
      "Done!\n"
     ]
    }
   ],
   "source": [
    "for i in range(len(folder_list)):\n",
    "    registration(surgery_list[i], folder_list[i], data_list[i], overwrite = False, display_first = False)"
   ]
  },
  {
   "cell_type": "markdown",
   "id": "04cb8c41",
   "metadata": {},
   "source": [
    "# Transcranial Registration"
   ]
  },
  {
   "cell_type": "code",
   "execution_count": 7,
   "id": "dbd1d5d6",
   "metadata": {},
   "outputs": [],
   "source": [
    "# Peut-être pas nécessaire si les étapes sont exactement les mêmes que celles de la fenêtre crânienne"
   ]
  },
  {
   "cell_type": "markdown",
   "id": "d8c56e2f",
   "metadata": {},
   "source": [
    "# Coregistration"
   ]
  },
  {
   "cell_type": "code",
   "execution_count": 5,
   "id": "58490aa9",
   "metadata": {},
   "outputs": [
    {
     "name": "stderr",
     "output_type": "stream",
     "text": [
      "100%|███████████████████████████████████████| 320/320 [00:00<00:00, 2321.11it/s]"
     ]
    },
    {
     "name": "stdout",
     "output_type": "stream",
     "text": [
      "Cortical map obtained.\n"
     ]
    },
    {
     "name": "stderr",
     "output_type": "stream",
     "text": [
      "\n"
     ]
    }
   ],
   "source": [
    "isocortex_map, id_name_dict = obtain_cortical_map()"
   ]
  },
  {
   "cell_type": "code",
   "execution_count": 6,
   "id": "52b1e8a9",
   "metadata": {},
   "outputs": [
    {
     "data": {
      "text/plain": [
       "{68: 'Frontal pole, layer 1',\n",
       " 97: 'Temporal association areas, layer 1',\n",
       " 171: 'Prelimbic area, layer 1',\n",
       " 281: 'Anteromedial visual area, layer 1',\n",
       " 320: 'Primary motor area, Layer 1',\n",
       " 421: 'Lateral visual area, layer 1',\n",
       " 442: 'Retrosplenial area, dorsal part, layer 1',\n",
       " 450: 'Primary somatosensory area, upper limb, layer 1',\n",
       " 484: 'Orbital area, medial part, layer 1',\n",
       " 527: 'Dorsal auditory area, layer 1',\n",
       " 542: 'Retrosplenial area, ventral part, layer 1',\n",
       " 558: 'Primary somatosensory area, nose, layer 1',\n",
       " 593: 'Primary visual area, layer 1',\n",
       " 656: 'Secondary motor area, layer 1',\n",
       " 671: 'Retrosplenial area, lateral agranular part, layer 1',\n",
       " 696: 'Posterior auditory area, layer 1',\n",
       " 735: 'Primary auditory area, layer 1',\n",
       " 750: 'Posterolateral visual area, layer 1',\n",
       " 805: 'posteromedial visual area, layer 1',\n",
       " 836: 'Ectorhinal area/Layer 1',\n",
       " 873: 'Supplemental somatosensory area, layer 1',\n",
       " 878: 'Primary somatosensory area, mouth, layer 1',\n",
       " 897: 'Visceral area, layer 1',\n",
       " 935: 'Anterior cingulate area, dorsal part, layer 1',\n",
       " 959: 'Ventral auditory area, layer 1',\n",
       " 981: 'Primary somatosensory area, barrel field, layer 1',\n",
       " 1006: 'Primary somatosensory area, trunk, layer 1',\n",
       " 1030: 'Primary somatosensory area, lower limb, layer 1',\n",
       " 1074: 'Anterolateral visual area, layer 1',\n",
       " 182305693: 'Primary somatosensory area, unassigned, layer 1',\n",
       " 312782550: 'Anterior area, layer 1',\n",
       " 312782578: 'Laterointermediate area, layer 1',\n",
       " 312782604: 'Rostrolateral area, layer 1',\n",
       " 312782632: 'Postrhinal area, layer 1'}"
      ]
     },
     "execution_count": 6,
     "metadata": {},
     "output_type": "execute_result"
    }
   ],
   "source": [
    "id_name_dict"
   ]
  },
  {
   "cell_type": "code",
   "execution_count": null,
   "id": "375d692a",
   "metadata": {},
   "outputs": [],
   "source": []
  }
 ],
 "metadata": {
  "kernelspec": {
   "display_name": "Python 3 (ipykernel)",
   "language": "python",
   "name": "python3"
  },
  "language_info": {
   "codemirror_mode": {
    "name": "ipython",
    "version": 3
   },
   "file_extension": ".py",
   "mimetype": "text/x-python",
   "name": "python",
   "nbconvert_exporter": "python",
   "pygments_lexer": "ipython3",
   "version": "3.9.17"
  }
 },
 "nbformat": 4,
 "nbformat_minor": 5
}
