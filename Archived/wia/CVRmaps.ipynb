{
 "cells": [
  {
   "cell_type": "code",
   "execution_count": null,
   "id": "0959428a",
   "metadata": {},
   "outputs": [],
   "source": [
    "# -*- coding: utf-8 -*-\n",
    "\"\"\"\n",
    "Created on Thu Jan 12 13:38:43 2023\n",
    "\n",
    "@author: vincent chouinard\n",
    "\"\"\"\n",
    "import os\n",
    "from pathlib import Path\n",
    "import numpy as np\n",
    "import matplotlib.pyplot as plt\n",
    "import matplotlib.animation as animation\n",
    "from PIL import Image\n",
    "import sys\n",
    "import imageio.v2 as imageio\n",
    "from PyQt5.QtWidgets import QFileDialog, QApplication\n",
    "import tifffile\n",
    "#import imageio\n",
    "module_path = r'/Users/vincentchouinard/Documents/GitHub/Widefield-Imaging-analysis'\n",
    "sys.path.insert(1,module_path)\n",
    "from motion_correction_caiman import *\n",
    "from WFmovie import WFmovie\n",
    "from WFmovie import create_channel\n",
    "from WFmovie import regress_timeseries\n",
    "\n",
    "module_path_chouine = r'/Users/vincentchouinard/Documents/GitHub/Widefield-Imaging-analysis/Chouine'\n",
    "sys.path.insert(2, module_path_chouine)\n",
    "from MIFFE import *"
   ]
  },
  {
   "cell_type": "code",
   "execution_count": null,
   "id": "9b3ce49b",
   "metadata": {},
   "outputs": [],
   "source": [
    "folderpath= search_path()"
   ]
  },
  {
   "cell_type": "code",
   "execution_count": null,
   "id": "7e8065e2",
   "metadata": {},
   "outputs": [],
   "source": [
    "channel = ['green']\n",
    "movies = create_movies(folderpath, channels = channel, channels_exist = True, stim_path = True)\n",
    "movie = movies[0]"
   ]
  },
  {
   "cell_type": "code",
   "execution_count": null,
   "id": "e22a1654",
   "metadata": {},
   "outputs": [],
   "source": [
    "generate_data_folder(movie, folderpath, channel, tif=True, CaImAn = True)"
   ]
  }
 ],
 "metadata": {
  "kernelspec": {
   "display_name": "Python 3 (ipykernel)",
   "language": "python",
   "name": "python3"
  },
  "language_info": {
   "codemirror_mode": {
    "name": "ipython",
    "version": 3
   },
   "file_extension": ".py",
   "mimetype": "text/x-python",
   "name": "python",
   "nbconvert_exporter": "python",
   "pygments_lexer": "ipython3",
   "version": "3.9.15"
  }
 },
 "nbformat": 4,
 "nbformat_minor": 5
}
